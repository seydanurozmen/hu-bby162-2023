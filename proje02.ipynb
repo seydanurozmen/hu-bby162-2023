{
  "nbformat": 4,
  "nbformat_minor": 0,
  "metadata": {
    "colab": {
      "provenance": [],
      "authorship_tag": "ABX9TyOLWISy4GJQQnwRxMxlH5vo",
      "include_colab_link": true
    },
    "kernelspec": {
      "name": "python3",
      "display_name": "Python 3"
    },
    "language_info": {
      "name": "python"
    }
  },
  "cells": [
    {
      "cell_type": "markdown",
      "metadata": {
        "id": "view-in-github",
        "colab_type": "text"
      },
      "source": [
        "<a href=\"https://colab.research.google.com/github/seydanurozmen/hu-bby162-2023/blob/main/proje02.ipynb\" target=\"_parent\"><img src=\"https://colab.research.google.com/assets/colab-badge.svg\" alt=\"Open In Colab\"/></a>"
      ]
    },
    {
      "cell_type": "code",
      "source": [
        "import random\n",
        "\n",
        "seviyeler = {\"basit\": {\"can\": 5, \"kelime\": \"papatya\"},\n",
        "             \"orta\": {\"can\": 3, \"kelime\": \"iskender\"},\n",
        "             \"ileri\": {\"can\": 1, \"kelime\": \"kitaplık\"}}\n",
        "\n",
        "while True:\n",
        "    seviye = input(\"Oynamak istediğiniz seviyeyi seçin (basit/orta/ileri): \").lower()\n",
        "\n",
        "    if seviye not in seviyeler:\n",
        "        print(\"Geçersiz seviye. Program sonlandırılıyor.\")\n",
        "        break\n",
        "\n",
        "    can = seviyeler[seviye][\"can\"]\n",
        "    kelime = seviyeler[seviye][\"kelime\"]\n",
        "    isaretci = \"Çiçek\" if seviye == \"basit\" else \"Yemek\" if seviye == \"orta\" else \"Eşya\"\n",
        "    tahmin_edilen = [\"_\" for harf in kelime]\n",
        "    hatali_tahminler = []\n",
        "    max_hatali_tahmin = can\n",
        "    print(\"Kelime işareti: {}\".format(isaretci))\n",
        "\n",
        "    while True:\n",
        "        print(\"\\nTahmin edilen kelime: {}\".format(\" \".join(tahmin_edilen)))\n",
        "        tahmin = input(\"Bir harf veya kelime tahmini girin: \").lower()\n",
        "\n",
        "        if tahmin == kelime:\n",
        "            print(\"Tebrikler! Doğru kelimeyi buldunuz.\")\n",
        "            break\n",
        "        elif tahmin in hatali_tahminler or tahmin in tahmin_edilen:\n",
        "            print(\"Bu harfi/kelimeyi zaten tahmin ettiniz. Lütfen tekrar deneyin.\")\n",
        "        elif len(tahmin) == 1 and tahmin in kelime:\n",
        "            for i, harf in enumerate(kelime):\n",
        "                if tahmin == harf:\n",
        "                    tahmin_edilen[i] = tahmin\n",
        "            if \"_\" not in tahmin_edilen:\n",
        "                print(\"\\nTebrikler! Doğru kelimeyi buldunuz.\")\n",
        "                break\n",
        "        else:\n",
        "            hatali_tahminler.append(tahmin)\n",
        "            max_hatali_tahmin -= 1\n",
        "            print(\"Bu harf/kelime yanlış. Kalan can sayısı: {}\".format(max_hatali_tahmin))\n",
        "            if max_hatali_tahmin == 0:\n",
        "                print(\"\\nMaalesef kaybettiniz. Doğru kelime: {}\".format(kelime))\n",
        "                break\n",
        "\n",
        "    yeniden_oyna = input(\"Tekrar oynamak ister misiniz? (e/h)\").lower()\n",
        "    if yeniden_oyna != \"e\":\n",
        "        break\n"
      ],
      "metadata": {
        "colab": {
          "base_uri": "https://localhost:8080/"
        },
        "id": "szuiY6AWV0B0",
        "outputId": "9b9eab1b-b431-44f2-bace-ea4b82c3a945"
      },
      "execution_count": null,
      "outputs": [
        {
          "output_type": "stream",
          "name": "stdout",
          "text": [
            "Oynamak istediğiniz seviyeyi seçin (basit/orta/ileri): ileri\n",
            "Kelime işareti: Eşya\n",
            "\n",
            "Tahmin edilen kelime: _ _ _ _ _ _ _ _\n",
            "Bir harf veya kelime tahmini girin: k\n",
            "\n",
            "Tahmin edilen kelime: k _ _ _ _ _ _ k\n",
            "Bir harf veya kelime tahmini girin: i\n",
            "\n",
            "Tahmin edilen kelime: k i _ _ _ _ _ k\n"
          ]
        }
      ]
    }
  ]
}