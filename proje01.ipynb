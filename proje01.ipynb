{
  "nbformat": 4,
  "nbformat_minor": 0,
  "metadata": {
    "colab": {
      "provenance": [],
      "authorship_tag": "ABX9TyNAcIecFcXEuSfFRmf4qOsh",
      "include_colab_link": true
    },
    "kernelspec": {
      "name": "python3",
      "display_name": "Python 3"
    },
    "language_info": {
      "name": "python"
    }
  },
  "cells": [
    {
      "cell_type": "markdown",
      "metadata": {
        "id": "view-in-github",
        "colab_type": "text"
      },
      "source": [
        "<a href=\"https://colab.research.google.com/github/seydanurozmen/hu-bby162-2023/blob/main/proje01.ipynb\" target=\"_parent\"><img src=\"https://colab.research.google.com/assets/colab-badge.svg\" alt=\"Open In Colab\"/></a>"
      ]
    },
    {
      "cell_type": "code",
      "execution_count": 1,
      "metadata": {
        "colab": {
          "base_uri": "https://localhost:8080/"
        },
        "id": "LPzygUOp0icX",
        "outputId": "7211bb2b-b977-476e-c085-25d1d55ffe83"
      },
      "outputs": [
        {
          "output_type": "stream",
          "name": "stdout",
          "text": [
            "['Sherlock', 'Brooklyn 99', 'The Office', 'Ezel']\n",
            "['Sherlock', 'Brooklyn 99', 'The Office', 'Ezel', 'Obi-Wan Kenobi', 'The Mandalorian']\n",
            " Eklemek istediğiniz diziyi girin: \"HIMYM\"\n",
            "['Sherlock', 'Brooklyn 99', 'The Office']\n",
            "[]\n"
          ]
        }
      ],
      "source": [
        "diziler = [\"Sherlock\", \"Brooklyn 99\", \"The Office\",\"Ezel\"]\n",
        "print(diziler)\n",
        "\n",
        "diziler += [\"Obi-Wan Kenobi\", \"The Mandalorian\"]\n",
        "print(diziler)\n",
        "\n",
        "diziEkle = input(\" Eklemek istediğiniz diziyi girin: \")\n",
        "diziler.append(diziEkle)\n",
        "\n",
        "diziler[3:]=[]\n",
        "print(diziler)\n",
        "\n",
        "diziler[:]=[]\n",
        "print(diziler)"
      ]
    }
  ]
}